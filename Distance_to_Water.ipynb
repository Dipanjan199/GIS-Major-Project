{
 "cells": [
  {
   "cell_type": "code",
   "execution_count": 4,
   "id": "3c9b3488-11b2-40db-baaa-fd35e7334711",
   "metadata": {},
   "outputs": [
    {
     "name": "stdout",
     "output_type": "stream",
     "text": [
      "✅ Saved: H:\\Major_Project\\Work\\Recovery_Index_Training\\Output_1\\normalized_distance_to_water_1990.tif\n",
      "✅ Saved: H:\\Major_Project\\Work\\Recovery_Index_Training\\Output_1\\normalized_distance_to_water_2000.tif\n",
      "✅ Saved: H:\\Major_Project\\Work\\Recovery_Index_Training\\Output_1\\normalized_distance_to_water_2010.tif\n",
      "✅ Saved: H:\\Major_Project\\Work\\Recovery_Index_Training\\Output_1\\normalized_distance_to_water_2020.tif\n"
     ]
    }
   ],
   "source": [
    "import os\n",
    "import rasterio\n",
    "import numpy as np\n",
    "from scipy.ndimage import distance_transform_edt\n",
    "\n",
    "# Paths to water probability rasters (skip 2024 since not available)\n",
    "water_rasters = {\n",
    "    1990: r\"H:\\Major_Project\\Work\\lpicodes\\Brahmaputra_Input\\BRAHMAPUTRA_1990.tif\",\n",
    "    2000: r\"H:\\Major_Project\\Work\\lpicodes\\Brahmaputra_Input\\BRAHMAPUTRA_2000.tif\",\n",
    "    2010: r\"H:\\Major_Project\\Work\\lpicodes\\Brahmaputra_Input\\BRAHMAPUTRA_2010.tif\",\n",
    "    2020: r\"H:\\Major_Project\\Work\\lpicodes\\Brahmaputra_Input\\BRAHMAPUTRA_2020.tif\"\n",
    "    # 2024 intentionally excluded\n",
    "}\n",
    "\n",
    "# Output folder\n",
    "output_dir = r\"H:\\Major_Project\\Work\\Recovery_Index_Training\\Output_1\"\n",
    "\n",
    "# Threshold to define water (adjust if needed)\n",
    "threshold = 0.5  # If your data is 0–100, set this to 50\n",
    "\n",
    "# Pixel size (in meters)\n",
    "pixel_size = 30  # meters\n",
    "\n",
    "def compute_distance_to_water(water_path, output_path, threshold=0.5, pixel_size=30):\n",
    "    with rasterio.open(water_path) as src:\n",
    "        water_prob = src.read(1).astype('float32')\n",
    "        profile = src.profile\n",
    "\n",
    "    # Normalize if in 0–100 scale\n",
    "    if water_prob.max() > 1:\n",
    "        water_prob /= 100.0\n",
    "\n",
    "    # Create binary water mask: 1 = water, 0 = land\n",
    "    binary_water = (water_prob > threshold).astype(np.uint8)\n",
    "\n",
    "    # Compute Euclidean distance to water (in pixels)\n",
    "    distance_pixels = distance_transform_edt(binary_water == 0)\n",
    "\n",
    "    # Convert distance from pixels to meters\n",
    "    distance_meters = distance_pixels * pixel_size\n",
    "\n",
    "    # Normalize distance to the 0-1 range\n",
    "    min_distance = distance_meters.min()\n",
    "    max_distance = distance_meters.max()\n",
    "    \n",
    "    # If there's variation in the distance raster (min != max), normalize\n",
    "    if max_distance > min_distance:\n",
    "        normalized_distance = (distance_meters - min_distance) / (max_distance - min_distance)\n",
    "    else:\n",
    "        # If there's no variation, set the entire raster to 0 (since the distance is the same)\n",
    "        normalized_distance = np.zeros_like(distance_meters)\n",
    "\n",
    "    # Save normalized distance raster\n",
    "    profile.update(dtype='float32', count=1, nodata=None)\n",
    "    with rasterio.open(output_path, 'w', **profile) as dst:\n",
    "        dst.write(normalized_distance.astype('float32'), 1)\n",
    "\n",
    "    print(f\"✅ Saved: {output_path}\")\n",
    "\n",
    "# Run for each year where data is available\n",
    "for year, input_path in water_rasters.items():\n",
    "    output_path = os.path.join(output_dir, f\"normalized_distance_to_water_{year}.tif\")\n",
    "    compute_distance_to_water(input_path, output_path, threshold, pixel_size)\n",
    "\n"
   ]
  },
  {
   "cell_type": "code",
   "execution_count": null,
   "id": "8eadf767-2327-4729-8ce7-11d1ae98bd1a",
   "metadata": {},
   "outputs": [],
   "source": []
  }
 ],
 "metadata": {
  "kernelspec": {
   "display_name": "Python 3 (ipykernel)",
   "language": "python",
   "name": "python3"
  },
  "language_info": {
   "codemirror_mode": {
    "name": "ipython",
    "version": 3
   },
   "file_extension": ".py",
   "mimetype": "text/x-python",
   "name": "python",
   "nbconvert_exporter": "python",
   "pygments_lexer": "ipython3",
   "version": "3.11.7"
  }
 },
 "nbformat": 4,
 "nbformat_minor": 5
}
